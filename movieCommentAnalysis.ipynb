{
 "cells": [
  {
   "cell_type": "markdown",
   "metadata": {},
   "source": [
    "# movieCommentAnalysis"
   ]
  },
  {
   "cell_type": "markdown",
   "metadata": {},
   "source": [
    "## import和相关设置\n",
    "\n",
    "- `minTotNum`: 只有评论数等于或超过这个数字的影片才会被统计.\n",
    "- `minFemNum`: 评价影片的女性的最少数量\n",
    "- `minMalnum`: 评价影片的男性的最少数量"
   ]
  },
  {
   "cell_type": "code",
   "execution_count": 1,
   "metadata": {},
   "outputs": [],
   "source": [
    "import pandas as pd\n",
    "\n",
    "\n",
    "minTotNum = 1000\n",
    "minFemNum = 200\n",
    "minMalNum = 200"
   ]
  },
  {
   "cell_type": "markdown",
   "metadata": {},
   "source": [
    "## 读取文件中的数据, 合并\n",
    "\n",
    "**请注意: 由于课上所给数据太弱, 结果不好看, 故我将其替换为网络上找到的其他数据集. 如果想要得到课上所给数据的结果, 请将读取部分被注释掉的部分解注, 将没被注释掉的部分加注释.**"
   ]
  },
  {
   "cell_type": "code",
   "execution_count": 2,
   "metadata": {},
   "outputs": [],
   "source": [
    "    u_cols = ['user_id', 'gender', 'age', 'occupation', 'zip']\n",
    "    users = pd.read_table('data/users.dat', sep='::', header=None, names=u_cols, engine='python')\n",
    "    r_cols = ['user_id', 'movie_id', 'rating', 'timestamp']\n",
    "    ratings = pd.read_table('data/ratings.dat', sep='::', header=None, names=r_cols, engine='python')\n",
    "    m_cols = ['movie_id', 'title', 'genres']\n",
    "    movies = pd.read_table('data/movies.dat', sep='::', header=None, names=m_cols, engine='python')\n",
    "\n",
    "    # u_cols = ['user_id', 'age', 'gender', 'occupation', 'zip_code']\n",
    "    # users = pd.read_csv('data/u.user', sep='|', names=u_cols, encoding=\"ISO-8859-1\")\n",
    "    # r_cols = ['user_id', 'movie_id', 'rating', 'unix_timestamp']\n",
    "    # ratings = pd.read_csv('data/u.data', sep='\\t', names=r_cols, encoding=\"ISO-8859-1\")\n",
    "    # m_cols = ['movie_id', 'title', 'release_date', 'video_release_date', 'imdb_url']\n",
    "    # movies = pd.read_csv('data/u.item', sep='|', names=m_cols, usecols=range(5), encoding=\"ISO-8859-1\")\n",
    "\n",
    "    lens = pd.merge(pd.merge(ratings, users), movies)"
   ]
  },
  {
   "cell_type": "markdown",
   "metadata": {},
   "source": [
    "展示`lens`中的数据."
   ]
  },
  {
   "cell_type": "code",
   "execution_count": 3,
   "metadata": {},
   "outputs": [
    {
     "name": "stdout",
     "output_type": "stream",
     "text": [
      "---------LENS--------\n",
      "            user_id      movie_id        rating     timestamp           age  \\\n",
      "count  1.000209e+06  1.000209e+06  1.000209e+06  1.000209e+06  1.000209e+06   \n",
      "mean   3.024512e+03  1.865540e+03  3.581564e+00  9.722437e+08  2.973831e+01   \n",
      "std    1.728413e+03  1.096041e+03  1.117102e+00  1.215256e+07  1.175198e+01   \n",
      "min    1.000000e+00  1.000000e+00  1.000000e+00  9.567039e+08  1.000000e+00   \n",
      "25%    1.506000e+03  1.030000e+03  3.000000e+00  9.653026e+08  2.500000e+01   \n",
      "50%    3.070000e+03  1.835000e+03  4.000000e+00  9.730180e+08  2.500000e+01   \n",
      "75%    4.476000e+03  2.770000e+03  4.000000e+00  9.752209e+08  3.500000e+01   \n",
      "max    6.040000e+03  3.952000e+03  5.000000e+00  1.046455e+09  5.600000e+01   \n",
      "\n",
      "         occupation  \n",
      "count  1.000209e+06  \n",
      "mean   8.036138e+00  \n",
      "std    6.531336e+00  \n",
      "min    0.000000e+00  \n",
      "25%    2.000000e+00  \n",
      "50%    7.000000e+00  \n",
      "75%    1.400000e+01  \n",
      "max    2.000000e+01  \n",
      "         user_id  movie_id  rating  timestamp gender  age  occupation    zip  \\\n",
      "0              1      1193       5  978300760      F    1          10  48067   \n",
      "1              2      1193       5  978298413      M   56          16  70072   \n",
      "2             12      1193       4  978220179      M   25          12  32793   \n",
      "3             15      1193       4  978199279      M   25           7  22903   \n",
      "4             17      1193       5  978158471      M   50           1  95350   \n",
      "...          ...       ...     ...        ...    ...  ...         ...    ...   \n",
      "1000204     5949      2198       5  958846401      M   18          17  47901   \n",
      "1000205     5675      2703       3  976029116      M   35          14  30030   \n",
      "1000206     5780      2845       1  958153068      M   18          17  92886   \n",
      "1000207     5851      3607       5  957756608      F   18          20  55410   \n",
      "1000208     5938      2909       4  957273353      M   25           1  35401   \n",
      "\n",
      "                                               title                genres  \n",
      "0             One Flew Over the Cuckoo's Nest (1975)                 Drama  \n",
      "1             One Flew Over the Cuckoo's Nest (1975)                 Drama  \n",
      "2             One Flew Over the Cuckoo's Nest (1975)                 Drama  \n",
      "3             One Flew Over the Cuckoo's Nest (1975)                 Drama  \n",
      "4             One Flew Over the Cuckoo's Nest (1975)                 Drama  \n",
      "...                                              ...                   ...  \n",
      "1000204                           Modulations (1998)           Documentary  \n",
      "1000205                        Broken Vessels (1998)                 Drama  \n",
      "1000206                            White Boys (1999)                 Drama  \n",
      "1000207                     One Little Indian (1973)  Comedy|Drama|Western  \n",
      "1000208  Five Wives, Three Secretaries and Me (1998)           Documentary  \n",
      "\n",
      "[1000209 rows x 10 columns]\n",
      "---------------------\n"
     ]
    }
   ],
   "source": [
    "    print(\"---------LENS--------\")\n",
    "    print(lens.describe())\n",
    "    print(lens)\n",
    "    print(\"---------------------\")"
   ]
  },
  {
   "cell_type": "markdown",
   "metadata": {},
   "source": [
    "## 第一次筛选: 总评论数筛选\n",
    "\n",
    "新建`size_by_title`统计每部电影的评论总数, 并筛选出总评论数大于等于`minTotNum`的电影名称, 并存放到`pre_active_name`中, 之后对`pre_active_name`进行去重."
   ]
  },
  {
   "cell_type": "code",
   "execution_count": 4,
   "metadata": {},
   "outputs": [],
   "source": [
    "    size_by_title = lens.groupby('title').size()\n",
    "    pre_active_name = size_by_title.index[size_by_title >= minTotNum]\n",
    "\n",
    "    pre_active_name = list(set(pre_active_name))"
   ]
  },
  {
   "cell_type": "markdown",
   "metadata": {},
   "source": [
    "打印`pre_active_name`展示. 此时部分内容会出现乱码, 不过这没有关系, 后期会对编码进行统一."
   ]
  },
  {
   "cell_type": "code",
   "execution_count": 5,
   "metadata": {},
   "outputs": [
    {
     "name": "stdout",
     "output_type": "stream",
     "text": [
      "0                                     Fargo (1996)\n",
      "1      South Park: Bigger, Longer and Uncut (1999)\n",
      "2                   American President, The (1995)\n",
      "3                   When Harry Met Sally... (1989)\n",
      "4               Four Weddings and a Funeral (1994)\n",
      "                          ...                     \n",
      "202                          Reservoir Dogs (1992)\n",
      "203                         Lethal Weapon 2 (1989)\n",
      "204                                 Gattaca (1997)\n",
      "205                            Forrest Gump (1994)\n",
      "206                                   Speed (1994)\n",
      "Length: 207, dtype: object\n"
     ]
    }
   ],
   "source": [
    "print(pd.Series(pre_active_name))"
   ]
  },
  {
   "cell_type": "markdown",
   "metadata": {},
   "source": [
    "## 分性别对评论数进行筛选\n",
    "\n",
    "`active_filter`统计每部影片男性和女性评论的总数.\n",
    "\n",
    "`active_name`中存放最终被筛选出来的影片的标题.\n",
    "\n",
    "筛选过程: 遍历前体数组`pre_active_name`, 比较数量, 如果合适就加入`active_name`中, 同时调整编码.\n",
    "\n",
    "这里使用`except`的原因是: 如果某部影片没有被某一性别评论, 就可能无法正常索引, 反正这个坏数据也不是我们需要的, 所以直接`continue`."
   ]
  },
  {
   "cell_type": "code",
   "execution_count": 6,
   "metadata": {},
   "outputs": [
    {
     "name": "stdout",
     "output_type": "stream",
     "text": [
      "-------FILTER:-------\n",
      "title                                     gender\n",
      "$1,000,000 Duck (1971)                    M          21\n",
      "                                          F          16\n",
      "'Night Mother (1986)                      F          36\n",
      "                                          M          34\n",
      "'Til There Was You (1997)                 F          37\n",
      "                                                   ... \n",
      "Zero Kelvin (Kj鎟lighetens kj鴗ere) (1995)  M           2\n",
      "Zeus and Roxanne (1997)                   M          14\n",
      "                                          F           9\n",
      "eXistenZ (1999)                           M         339\n",
      "                                          F          71\n",
      "Name: gender, Length: 7152, dtype: int64\n",
      "---------------------\n",
      "-----ACTIVE_NAME-----\n",
      "0                                     Fargo (1996)\n",
      "1      South Park: Bigger, Longer and Uncut (1999)\n",
      "2                   American President, The (1995)\n",
      "3                   When Harry Met Sally... (1989)\n",
      "4               Four Weddings and a Funeral (1994)\n",
      "                          ...                     \n",
      "178                             Taxi Driver (1976)\n",
      "179                          Reservoir Dogs (1992)\n",
      "180                                 Gattaca (1997)\n",
      "181                            Forrest Gump (1994)\n",
      "182                                   Speed (1994)\n",
      "Length: 183, dtype: object\n",
      "---------------------\n"
     ]
    }
   ],
   "source": [
    "    active_filter = lens.groupby('title').gender.value_counts()\n",
    "\n",
    "    print(\"-------FILTER:-------\")\n",
    "    print(active_filter)\n",
    "    print(\"---------------------\")\n",
    "\n",
    "    active_name = list()\n",
    "    for title in pre_active_name:\n",
    "        try:\n",
    "            if (active_filter[(title, 'F')] > minFemNum) & (active_filter[(title, 'M')] > minMalNum):\n",
    "                if title not in active_name:\n",
    "                    active_name.append(title.encode('unicode-escape').decode('unicode-escape'))\n",
    "        except Exception as e:\n",
    "            print(e)\n",
    "            continue\n",
    "\n",
    "    print(\"-----ACTIVE_NAME-----\")\n",
    "    print(pd.Series(active_name))\n",
    "    print(\"---------------------\")"
   ]
  },
  {
   "cell_type": "markdown",
   "metadata": {},
   "source": [
    "## 提取数据并求差值\n",
    "\n",
    "`mean_ratings`用于存储均值数据, 加入列`diff`用于存储女性均分和男性均分的差值."
   ]
  },
  {
   "cell_type": "code",
   "execution_count": 7,
   "metadata": {},
   "outputs": [
    {
     "name": "stdout",
     "output_type": "stream",
     "text": [
      "-----MEAN_RATING:----\n",
      "gender                                              F         M      diff\n",
      "title                                                                    \n",
      "Fargo (1996)                                 4.217656  4.267780 -0.050124\n",
      "South Park: Bigger, Longer and Uncut (1999)  3.422481  3.846686 -0.424206\n",
      "American President, The (1995)               3.923483  3.718654  0.204828\n",
      "When Harry Met Sally... (1989)               4.257028  3.987850  0.269178\n",
      "Four Weddings and a Funeral (1994)           3.834382  3.686508  0.147874\n",
      "...                                               ...       ...       ...\n",
      "Taxi Driver (1976)                           4.119522  4.200202 -0.080680\n",
      "Reservoir Dogs (1992)                        3.769231  4.213873 -0.444642\n",
      "Gattaca (1997)                               3.757848  3.699063  0.058784\n",
      "Forrest Gump (1994)                          4.045031  4.105806 -0.060775\n",
      "Speed (1994)                                 3.636364  3.542237  0.094127\n",
      "\n",
      "[183 rows x 3 columns]\n",
      "---------------------\n"
     ]
    }
   ],
   "source": [
    "    lens = lens.pivot_table('rating', index='title', columns='gender', aggfunc='mean')\n",
    "    mean_ratings = lens.loc[active_name]\n",
    "    mean_ratings['diff'] = mean_ratings['F'] - mean_ratings['M']\n",
    "\n",
    "    print(\"-----MEAN_RATING:----\")\n",
    "    print(mean_ratings)\n",
    "    print(\"---------------------\")"
   ]
  },
  {
   "cell_type": "markdown",
   "metadata": {},
   "source": [
    "## 得出男/女性更偏爱的最有争议电影\n",
    "\n",
    "直接对`diff`字段进行排序, 取前10和后10."
   ]
  },
  {
   "cell_type": "code",
   "execution_count": 8,
   "metadata": {},
   "outputs": [
    {
     "name": "stdout",
     "output_type": "stream",
     "text": [
      "------MOST_CONTROVERSIAL::MALE_LIKES------\n",
      "gender                                              F         M      diff\n",
      "title                                                                    \n",
      "Animal House (1978)                          3.628906  4.167192 -0.538286\n",
      "Reservoir Dogs (1992)                        3.769231  4.213873 -0.444642\n",
      "South Park: Bigger, Longer and Uncut (1999)  3.422481  3.846686 -0.424206\n",
      "Airplane! (1980)                             3.656566  4.064419 -0.407854\n",
      "Godfather: Part II, The (1974)               4.040936  4.437778 -0.396842\n",
      "Clockwork Orange, A (1971)                   3.757009  4.145813 -0.388803\n",
      "Aliens (1986)                                3.802083  4.186684 -0.384601\n",
      "Terminator 2: Judgment Day (1991)            3.785088  4.115367 -0.330279\n",
      "Alien (1979)                                 3.888252  4.216119 -0.327867\n",
      "Terminator, The (1984)                       3.899729  4.205899 -0.306170\n",
      "---------------------\n",
      "-----MOST_CONTROVERSIAL::FEMALE_LIKES-----\n",
      "gender                                               F         M      diff\n",
      "title                                                                     \n",
      "Rocky Horror Picture Show, The (1975)         3.673016  3.160131  0.512885\n",
      "Mary Poppins (1964)                           4.197740  3.730594  0.467147\n",
      "Gone with the Wind (1939)                     4.269841  3.829371  0.440471\n",
      "Full Monty, The (1997)                        4.113456  3.760976  0.352481\n",
      "Little Mermaid, The (1989)                    3.975936  3.632375  0.343561\n",
      "Pretty Woman (1990)                           3.846914  3.511700  0.335213\n",
      "Thelma & Louise (1991)                        3.916268  3.581582  0.334686\n",
      "Clueless (1995)                               3.827004  3.514640  0.312365\n",
      "Ghost (1990)                                  3.698667  3.395194  0.303473\n",
      "Willy Wonka and the Chocolate Factory (1971)  4.063953  3.789474  0.274480\n",
      "------------------------------------------\n"
     ]
    }
   ],
   "source": [
    "    sorted_ratings = mean_ratings.sort_values(by='diff')\n",
    "    print(\"------MOST_CONTROVERSIAL::MALE_LIKES------\")\n",
    "    print(sorted_ratings[:10])\n",
    "    print(\"---------------------\")\n",
    "    print(\"-----MOST_CONTROVERSIAL::FEMALE_LIKES-----\")\n",
    "    print(sorted_ratings[::-1][:10])\n",
    "    print(\"------------------------------------------\")"
   ]
  },
  {
   "cell_type": "markdown",
   "metadata": {},
   "source": [
    "## 得出最有争议和最没有争议的电影\n",
    "\n",
    "对`diff`字段取绝对值, 排序得出结论."
   ]
  },
  {
   "cell_type": "code",
   "execution_count": 9,
   "metadata": {},
   "outputs": [
    {
     "name": "stdout",
     "output_type": "stream",
     "text": [
      "-----------LEAST_CONTROVERSIAL:-----------\n",
      "gender                                              F         M      diff\n",
      "title                                                                    \n",
      "Jerry Maguire (1996)                         3.758315  3.759424  0.001109\n",
      "Indiana Jones and the Temple of Doom (1984)  3.674312  3.676568  0.002256\n",
      "Good Will Hunting (1997)                     4.174672  4.177064  0.002392\n",
      "Fugitive, The (1993)                         4.100457  4.104046  0.003590\n",
      "Batman Returns (1992)                        2.980100  2.975904  0.004196\n",
      "Usual Suspects, The (1995)                   4.513317  4.518248  0.004931\n",
      "Green Mile, The (1999)                       4.159722  4.153105  0.006617\n",
      "Boogie Nights (1997)                         3.763838  3.771295  0.007458\n",
      "Chicken Run (2000)                           3.885559  3.877339  0.008220\n",
      "Blair Witch Project, The (1999)              3.038732  3.029381  0.009351\n",
      "------------------------------------------\n",
      "------------MOST_CONTROVERSIAL------------\n",
      "gender                                              F         M      diff\n",
      "title                                                                    \n",
      "Animal House (1978)                          3.628906  4.167192  0.538286\n",
      "Rocky Horror Picture Show, The (1975)        3.673016  3.160131  0.512885\n",
      "Mary Poppins (1964)                          4.197740  3.730594  0.467147\n",
      "Reservoir Dogs (1992)                        3.769231  4.213873  0.444642\n",
      "Gone with the Wind (1939)                    4.269841  3.829371  0.440471\n",
      "South Park: Bigger, Longer and Uncut (1999)  3.422481  3.846686  0.424206\n",
      "Airplane! (1980)                             3.656566  4.064419  0.407854\n",
      "Godfather: Part II, The (1974)               4.040936  4.437778  0.396842\n",
      "Clockwork Orange, A (1971)                   3.757009  4.145813  0.388803\n",
      "Aliens (1986)                                3.802083  4.186684  0.384601\n",
      "------------------------------------------\n"
     ]
    }
   ],
   "source": [
    "    mean_ratings['diff'] = abs(mean_ratings['diff'])\n",
    "    sorted_ratings = mean_ratings.sort_values(by='diff')\n",
    "    print(\"-----------LEAST_CONTROVERSIAL:-----------\")\n",
    "    print(sorted_ratings[:10])\n",
    "    print(\"------------------------------------------\")\n",
    "    print(\"------------MOST_CONTROVERSIAL------------\")\n",
    "    print(sorted_ratings[::-1][:10])\n",
    "    print(\"------------------------------------------\")"
   ]
  }
 ],
 "metadata": {
  "kernelspec": {
   "display_name": "Python 3",
   "language": "python",
   "name": "python3"
  },
  "language_info": {
   "codemirror_mode": {
    "name": "ipython",
    "version": 3
   },
   "file_extension": ".py",
   "mimetype": "text/x-python",
   "name": "python",
   "nbconvert_exporter": "python",
   "pygments_lexer": "ipython3",
   "version": "3.8.5"
  }
 },
 "nbformat": 4,
 "nbformat_minor": 4
}
